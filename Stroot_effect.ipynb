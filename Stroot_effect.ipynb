{
 "cells": [
  {
   "cell_type": "markdown",
   "metadata": {},
   "source": [
    "# Stroop Effect"
   ]
  },
  {
   "cell_type": "markdown",
   "metadata": {},
   "source": [
    "### Q1. What is our independent variable? What is our dependent variable?"
   ]
  },
  {
   "cell_type": "markdown",
   "metadata": {},
   "source": [
    "Answer:\n",
    "\n",
    "The dependent variable is time spend in test.\n",
    "\n",
    "Other variables, such as size of word, time of experiement taken, color of the ink, are independent variable"
   ]
  },
  {
   "cell_type": "markdown",
   "metadata": {},
   "source": [
    "### Q2. What is an appropriate set of hypotheses for this task? What kind of statistical test do you expect to perform? Justify your choices."
   ]
  },
  {
   "cell_type": "markdown",
   "metadata": {},
   "source": [
    "Answer:\n",
    "\n",
    "From the experience of playing 'Interactive Stroop Effect Experiment' game, it is reasonable to think of that,it is harder to name a word correctly in incongruent condition than in congrunent condition. Thus the hypotheses are:\n",
    "\n",
    "**Null hypotheses:** The average responding time in congruent condition is __not significant different__ from average responding time in incongruent condition.\n",
    "\n",
    "H<sub>o</sub>:                 µt(cong) = µt(incong)\n",
    "\n",
    "**Alt hypotheses:** The average responding time in congruent condition is __ less than__ average responding time in incongruent condition.\n",
    "\n",
    "H<sub>A</sub>:                 µt(cong) < µt(incong)\n",
    "\n",
    "Based on the hypotheses,we could perform hypothesis testing, with one-tail dependent t test.\n",
    "\n",
    "We using one-tail test because the hypothesis assume average responding time of incongruent condistion is bigger than congruent condition. Further, the one-tail test should be on negative direction.\n",
    "\n",
    "Performing t test rather than z test because t test is more apropirate for small samples.\n"
   ]
  },
  {
   "cell_type": "markdown",
   "metadata": {},
   "source": [
    "# Q3. Report some descriptive statistics regarding this dataset. Include at least one measure of central tendency and at least one measure of variability."
   ]
  },
  {
   "cell_type": "code",
   "execution_count": 5,
   "metadata": {
    "collapsed": false
   },
   "outputs": [
    {
     "data": {
      "text/html": [
       "<div>\n",
       "<table border=\"1\" class=\"dataframe\">\n",
       "  <thead>\n",
       "    <tr style=\"text-align: right;\">\n",
       "      <th></th>\n",
       "      <th>Congruent</th>\n",
       "      <th>Incongruent</th>\n",
       "    </tr>\n",
       "  </thead>\n",
       "  <tbody>\n",
       "    <tr>\n",
       "      <th>count</th>\n",
       "      <td>24.000000</td>\n",
       "      <td>24.000000</td>\n",
       "    </tr>\n",
       "    <tr>\n",
       "      <th>mean</th>\n",
       "      <td>14.051125</td>\n",
       "      <td>22.015917</td>\n",
       "    </tr>\n",
       "    <tr>\n",
       "      <th>std</th>\n",
       "      <td>3.559358</td>\n",
       "      <td>4.797057</td>\n",
       "    </tr>\n",
       "    <tr>\n",
       "      <th>min</th>\n",
       "      <td>8.630000</td>\n",
       "      <td>15.687000</td>\n",
       "    </tr>\n",
       "    <tr>\n",
       "      <th>25%</th>\n",
       "      <td>11.895250</td>\n",
       "      <td>18.716750</td>\n",
       "    </tr>\n",
       "    <tr>\n",
       "      <th>50%</th>\n",
       "      <td>14.356500</td>\n",
       "      <td>21.017500</td>\n",
       "    </tr>\n",
       "    <tr>\n",
       "      <th>75%</th>\n",
       "      <td>16.200750</td>\n",
       "      <td>24.051500</td>\n",
       "    </tr>\n",
       "    <tr>\n",
       "      <th>max</th>\n",
       "      <td>22.328000</td>\n",
       "      <td>35.255000</td>\n",
       "    </tr>\n",
       "  </tbody>\n",
       "</table>\n",
       "</div>"
      ],
      "text/plain": [
       "       Congruent  Incongruent\n",
       "count  24.000000    24.000000\n",
       "mean   14.051125    22.015917\n",
       "std     3.559358     4.797057\n",
       "min     8.630000    15.687000\n",
       "25%    11.895250    18.716750\n",
       "50%    14.356500    21.017500\n",
       "75%    16.200750    24.051500\n",
       "max    22.328000    35.255000"
      ]
     },
     "execution_count": 5,
     "metadata": {},
     "output_type": "execute_result"
    }
   ],
   "source": [
    "import pandas as pd\n",
    "import matplotlib.pyplot as plt\n",
    "data = pd.read_csv(\"stroopdata.csv\")\n",
    "data.describe()"
   ]
  },
  {
   "cell_type": "markdown",
   "metadata": {},
   "source": [
    "# Q4. Provide one or two visualizations that show the distribution of the sample data. Write one or two sentences noting what you observe about the plot or plots."
   ]
  },
  {
   "cell_type": "code",
   "execution_count": 14,
   "metadata": {
    "collapsed": false
   },
   "outputs": [
    {
     "name": "stdout",
     "output_type": "stream",
     "text": [
      "Populating the interactive namespace from numpy and matplotlib\n"
     ]
    },
    {
     "data": {
      "text/plain": [
       "<matplotlib.text.Text at 0xb5e01d0>"
      ]
     },
     "execution_count": 14,
     "metadata": {},
     "output_type": "execute_result"
    },
    {
     "data": {
      "image/png": "[encoded data removed]",
      "text/plain": [
       "<matplotlib.figure.Figure at 0xb7ea8b0>"
      ]
     },
     "metadata": {},
     "output_type": "display_data"
    }
   ],
   "source": [
    "%pylab inline \n",
    "data.plot.bar()\n",
    "plt.ylabel(\"time in s\")"
   ]
  },
  {
   "cell_type": "markdown",
   "metadata": {},
   "source": [
    "From the plot we could clearly see that in this sample people spend more time in incongruent condition than in congruent condition."
   ]
  },
  {
   "cell_type": "markdown",
   "metadata": {},
   "source": [
    "# Q5. Now, perform the statistical test and report your results. What is your confidence level and your critical statistic value? Do you reject the null hypothesis or fail to reject it? Come to a conclusion in terms of the experiment task. Did the results match up with your expectations?"
   ]
  },
  {
   "cell_type": "code",
   "execution_count": 37,
   "metadata": {
    "collapsed": false
   },
   "outputs": [
    {
     "name": "stdout",
     "output_type": "stream",
     "text": [
      "number of count: 24\n",
      "degree of freedom: 23\n",
      "t-critical value when alpha level equals .05: -1.714\n",
      "mean of difference: -7.96479166667\n",
      "standard diviation of difference: 4.86482691036\n",
      "standard error mean: 0.993028634778\n",
      "t statistic value: -8.02070694411\n",
      "margin of error: -1.70205108001\n",
      "95% confident interval:( -6.26274058666 -9.66684274668 )\n"
     ]
    }
   ],
   "source": [
    "# number of count\n",
    "count  = data[\"Congruent\"].count()\n",
    "print \"number of count:\",count\n",
    "# degree of freedom\n",
    "print \"degree of freedom:\",data[\"Congruent\"].count() -1\n",
    "# t-critical when alpha level equals .05, note this test is single-tail:\n",
    "critical = -1.714\n",
    "print \"t-critical value when alpha level equals .05:\", critical\n",
    "#mean and std of difference:\n",
    "data[\"Difference\"] = data[\"Congruent\"] - data[\"Incongruent\"]\n",
    "mean = data['Difference'].mean()\n",
    "std = data['Difference'].std()\n",
    "print \"mean of difference:\",mean\n",
    "print \"standard diviation of difference:\",std\n",
    "# t-statistic\n",
    "sem = std/sqrt(count)\n",
    "print \"standard error mean:\",sem\n",
    "print \"t statistic value:\", mean/sem\n",
    "merror = sem*critical\n",
    "print \"margin of error:\", merror \n",
    "print \"95% confident interval:(\",mean - merror, mean + merror,\")\" "
   ]
  },
  {
   "cell_type": "markdown",
   "metadata": {},
   "source": [
    "Based on the calculation above, I reject the null hypotheses, since t-statistic value is bigger than t-critical value, we could judge that t-statistic is fall in the critical region, thus we should reject the hypotheses.\n",
    "\n",
    "Our 95% confident interval proves that the average responding time in congruent condition is less than that in incongruent condition, with 95% confidence interval less around 6s to 9s, which match our expectation."
   ]
  },
  {
   "cell_type": "code",
   "execution_count": null,
   "metadata": {
    "collapsed": true
   },
   "outputs": [],
   "source": []
  }
 ],
 "metadata": {
  "anaconda-cloud": {},
  "kernelspec": {
   "display_name": "Python [conda root]",
   "language": "python",
   "name": "conda-root-py"
  },
  "language_info": {
   "codemirror_mode": {
    "name": "ipython",
    "version": 2
   },
   "file_extension": ".py",
   "mimetype": "text/x-python",
   "name": "python",
   "nbconvert_exporter": "python",
   "pygments_lexer": "ipython2",
   "version": "2.7.12"
  }
 },
 "nbformat": 4,
 "nbformat_minor": 1
}

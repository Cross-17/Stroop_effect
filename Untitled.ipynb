{
 "cells": [
  {
   "cell_type": "markdown",
   "metadata": {},
   "source": [
    "# Stroop Effect"
   ]
  },
  {
   "cell_type": "markdown",
   "metadata": {},
   "source": [
    "### Q1. What is our independent variable? What is our dependent variable?"
   ]
  },
  {
   "cell_type": "markdown",
   "metadata": {},
   "source": [
    "Answer:\n",
    "\n",
    "The dependent variable is incongruent condition or congruent condition.\n",
    "\n",
    "Other variables, such as size of word, time of experiement taken, color of the ink, are independent variable"
   ]
  },
  {
   "cell_type": "markdown",
   "metadata": {},
   "source": [
    "### Q2. What is an appropriate set of hypotheses for this task? What kind of statistical test do you expect to perform? Justify your choices."
   ]
  },
  {
   "cell_type": "markdown",
   "metadata": {},
   "source": [
    "Answer:\n",
    "\n",
    "From the experience of playing 'Interactive Stroop Effect Experiment' game, it is resonable to think of that,it is harder to name a word in incongruent condition than in congrunent condition. Thus the hypotheses are:\n",
    "\n",
    "**Null hypotheses:** The average responding time in incongruent condition is __not significant different__ from average responding time in congruent condition.\n",
    "\n",
    "H<sub>o</sub>:                 µt(cong) = µt(incong)\n",
    "\n",
    "**Alt hypotheses:** The average responding time in incongruent condition is __ bigger than__ average responding time in congruent condition.\n",
    "\n",
    "H<sub>A</sub>:                 µt(cong) ≠ µt(incong)\n"
   ]
  },
  {
   "cell_type": "code",
   "execution_count": null,
   "metadata": {
    "collapsed": true
   },
   "outputs": [],
   "source": []
  }
 ],
 "metadata": {
  "anaconda-cloud": {},
  "kernelspec": {
   "display_name": "Python [conda root]",
   "language": "python",
   "name": "conda-root-py"
  },
  "language_info": {
   "codemirror_mode": {
    "name": "ipython",
    "version": 2
   },
   "file_extension": ".py",
   "mimetype": "text/x-python",
   "name": "python",
   "nbconvert_exporter": "python",
   "pygments_lexer": "ipython2",
   "version": "2.7.12"
  }
 },
 "nbformat": 4,
 "nbformat_minor": 1
}
